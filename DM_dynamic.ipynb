{
  "nbformat": 4,
  "nbformat_minor": 0,
  "metadata": {
    "colab": {
      "provenance": []
    },
    "kernelspec": {
      "name": "python3",
      "display_name": "Python 3"
    },
    "language_info": {
      "name": "python"
    }
  },
  "cells": [
    {
      "cell_type": "code",
      "execution_count": null,
      "metadata": {
        "id": "x4wRVgfKIPhT"
      },
      "outputs": [],
      "source": [
        "#1 Find the length of the longest (strictly) increasing subsequence of given n integers.\n",
        "def LIS(a, n):\n",
        "    dp = [1] * n\n",
        "    prev = [-1] * n\n",
        "    for i in range(1, n):\n",
        "        for j in range(0, i):\n",
        "            if a[j] < a[i] and dp[j] + 1 > dp[i]:\n",
        "                dp[i] = dp[j] + 1\n",
        "                prev[i] = j\n",
        "\n",
        "    return max(dp)\n",
        "\n",
        "a = list(int(i) for i in input().split())\n",
        "n = len(a)\n",
        "res = LIS(a, n)\n",
        "print(res)"
      ]
    },
    {
      "cell_type": "code",
      "source": [
        "#2 Find the longest (strictly) increasing subsequence of given n integers. Output indices of that subsequence in increasing order\n",
        "def LIS(a, n):\n",
        "    dp = [1] * n\n",
        "    prev = [-1] * n\n",
        "    for i in range(1, n):\n",
        "        for j in range(0, i):\n",
        "            if a[j] < a[i] and dp[j] + 1 > dp[i]:\n",
        "                dp[i] = dp[j] + 1\n",
        "                prev[i] = j\n",
        "\n",
        "    last = max(zip(dp, range(len(dp))))[1]\n",
        "    answer = []\n",
        "    while last != -1:\n",
        "        answer.append(last + 1)\n",
        "        last = prev[last]\n",
        "    answer.reverse()\n",
        "    return answer\n",
        "\n",
        "a = list(int(i) for i in input().split())\n",
        "n = len(a)\n",
        "\n",
        "res = LIS(a, n)\n",
        "print(*res)"
      ],
      "metadata": {
        "id": "TnSfCPTRIbUj"
      },
      "execution_count": null,
      "outputs": []
    },
    {
      "cell_type": "code",
      "source": [
        "#3 Print any longest common subsequence.\n",
        "def LCS(first, second):\n",
        "    m = len(first)\n",
        "    n = len(second)\n",
        "    lcs = [[0] * (n + 1) for _ in range(m + 1)]\n",
        "    prev = [[-1] * (n + 1) for _ in range(m + 1)]\n",
        "\n",
        "    for i in range(m + 1):\n",
        "        for j in range(n + 1):\n",
        "            if i == 0 or j == 0:\n",
        "                lcs[i][j] = 0\n",
        "                prev[i][j] = (i, j)\n",
        "            elif first[i - 1] == second[j - 1]:\n",
        "                lcs[i][j] = lcs[i - 1][j - 1] + 1\n",
        "                prev[i][j] = (i - 1, j - 1)\n",
        "            else:\n",
        "                lcs[i][j] = max(lcs[i - 1][j], lcs[i][j - 1])\n",
        "                prev[i][j] = (i - 1, j) if lcs[i - 1][j] >= lcs[i][j - 1] else (i, j - 1)\n",
        "    ans = []\n",
        "    i = m\n",
        "    j = n\n",
        "    while i != 0 and j != 0:\n",
        "        if prev[i][j] == (i - 1, j - 1):\n",
        "            ans.append(first[i - 1])\n",
        "            i -= 1\n",
        "            j -= 1\n",
        "        elif prev[i][j] == (i - 1, j):\n",
        "            i -= 1\n",
        "        else:\n",
        "            j -= 1\n",
        "    ans.reverse()\n",
        "    return ans\n",
        "\n",
        "\n",
        "first = input()\n",
        "second = input()\n",
        "res = LCS(first, second)\n",
        "print(''.join([str(i) for i in res]))"
      ],
      "metadata": {
        "id": "XrXiIpUkImav"
      },
      "execution_count": null,
      "outputs": []
    },
    {
      "cell_type": "code",
      "source": [
        "#4 Solve one of the variations of the knapsack problem\n",
        "def Knapsack(w, n, S):\n",
        "    dp = [[0] * (S + 1) for _ in range(n)]\n",
        "    for i in range(n):\n",
        "        for j in range(S + 1):\n",
        "            if j >= w[i]:\n",
        "                dp[i][j] = dp[i - 1][j] + dp[i - 1][j - w[i]] + 1\n",
        "            else:\n",
        "                dp[i][j] = dp[i - 1][j]\n",
        "\n",
        "    return dp[i][j] + 1\n",
        "\n",
        "w = list(int(i) for i in input().split())\n",
        "S = int(input())\n",
        "n = len(w)\n",
        "\n",
        "res = Knapsack(w, n, S)\n",
        "print(res)"
      ],
      "metadata": {
        "id": "ypUANeIaIsMH"
      },
      "execution_count": null,
      "outputs": []
    },
    {
      "cell_type": "code",
      "source": [
        "#5 Find the cost of the best path\n",
        "import sys\n",
        "\n",
        "def path(cost):\n",
        "    fin = [[0] * (len(cost[0])) for _ in range(len(cost))]\n",
        "\n",
        "    for i in range(len(cost)):\n",
        "        for j in range(len(cost[0])):\n",
        "            fin[i][j] = cost[i][j]\n",
        "\n",
        "            if i == 0 and j == 0:\n",
        "                fin[i][j] = cost[0][0]\n",
        "\n",
        "            elif i == 0 and j > 0:\n",
        "                fin[i][j] = fin[0][j - 1] + fin[0][j]\n",
        "\n",
        "            elif j == 0 and i > 0:\n",
        "                fin[i][j] = fin[i - 1][0] + fin[i][0]\n",
        "\n",
        "            elif i > 0 and j > 0:\n",
        "                fin[i][j] = min(fin[i - 1][j] + fin[i][j], fin[i][j - 1] + fin[i][j])\n",
        "\n",
        "    return fin[i][j]\n",
        "\n",
        "cost = []\n",
        "for line in sys.stdin:\n",
        "    new_list = [int(x) for x in line.split()]\n",
        "    cost.append(new_list)\n",
        "\n",
        "res = path(cost)\n",
        "print(res)"
      ],
      "metadata": {
        "id": "Z2Mv04qdIyLS"
      },
      "execution_count": null,
      "outputs": []
    }
  ]
}