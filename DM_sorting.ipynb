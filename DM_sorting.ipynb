{
  "nbformat": 4,
  "nbformat_minor": 0,
  "metadata": {
    "colab": {
      "provenance": []
    },
    "kernelspec": {
      "name": "python3",
      "display_name": "Python 3"
    },
    "language_info": {
      "name": "python"
    }
  },
  "cells": [
    {
      "cell_type": "code",
      "execution_count": null,
      "metadata": {
        "id": "K-NpyqXZFuqA"
      },
      "outputs": [],
      "source": [
        "#1 Implement the bubble sort algorithm. Print the number of phases during which sorted array changes.\n",
        "a = input()\n",
        "initial = list(int(i) for i in a.split())\n",
        "n = len(initial)\n",
        "\n",
        "def bubblesort(numbers, length):\n",
        "    for i in range(length - 1):\n",
        "        num = i\n",
        "        swapped = False\n",
        "        for j in range(0, length - i - 1):\n",
        "            if numbers[j] > numbers[j + 1]:\n",
        "                numbers[j], numbers[j + 1] = numbers[j + 1], numbers[j]\n",
        "                swapped = True\n",
        "        if not swapped:\n",
        "            return num\n",
        "    return length - 1\n",
        "\n",
        "print(bubblesort(initial, n))"
      ]
    },
    {
      "cell_type": "code",
      "source": [
        "#2 Implement the insertion sort algorithm. Print the number of pairs of adjacent elements that were swapped during the sorting process.\n",
        "a = input()\n",
        "initial = list(int(i) for i in a.split())\n",
        "n = len(initial)\n",
        "\n",
        "def insertion(numbers, length):\n",
        "    count = 0\n",
        "    for i in range(0, length):\n",
        "        j = i\n",
        "        while j > 0 and numbers[j - 1] > numbers[j]:\n",
        "            numbers[j], numbers[j - 1] = numbers[j - 1], numbers[j]\n",
        "            count += 1\n",
        "            j -= 1\n",
        "    return print(count)\n",
        "\n",
        "insertion(initial, n)"
      ],
      "metadata": {
        "id": "qLgJowD4GE3T"
      },
      "execution_count": null,
      "outputs": []
    },
    {
      "cell_type": "code",
      "source": [
        "#3 Implement the selection sort, which, on each step, finds the minimum element in the remaining part of the array and puts it in the first position. Let's call the swap distance the difference between indices of two elements that are being swapped. Print the sum of all swap distances of all swaps made by selection sort.\n",
        "a = input()\n",
        "initial = list(int(i) for i in a.split())\n",
        "n = len(initial)\n",
        "\n",
        "def selection(numbers, length):\n",
        "    total = 0\n",
        "    for i in range(0, length - 1):\n",
        "        k = i\n",
        "        for j in range(i + 1, length):\n",
        "            if numbers[j] < numbers[k]:\n",
        "                k = j\n",
        "        total += (k - i)\n",
        "        numbers[i], numbers[k] = numbers[k], numbers[i]\n",
        "    return print(total)\n",
        "\n",
        "selection(initial, n)"
      ],
      "metadata": {
        "id": "yfH0DlHwGK5V"
      },
      "execution_count": null,
      "outputs": []
    },
    {
      "cell_type": "code",
      "source": [
        "#4 Implement the merge sort algorithm.\n",
        "a = input()\n",
        "initial = list(int(i) for i in a.split())\n",
        "\n",
        "def merge_sort(numbers):\n",
        "    if len(numbers) == 1:\n",
        "        return numbers\n",
        "    else:\n",
        "        middle = len(numbers) // 2\n",
        "        left = merge_sort(numbers[:middle])\n",
        "        right = merge_sort(numbers[middle:])\n",
        "        numbers = merge(left, right)\n",
        "        return numbers\n",
        "\n",
        "def merge(left, right):\n",
        "    i = 0\n",
        "    j = 0\n",
        "    answer = []\n",
        "    while i < len(left) and j < len(right):\n",
        "        if left[i] <= right[j]:\n",
        "            answer.append(left[i])\n",
        "            i += 1\n",
        "        else:\n",
        "            answer.append(right[j])\n",
        "            j += 1\n",
        "    answer = answer + left[i:]\n",
        "    answer = answer + right[j:]\n",
        "    return answer\n",
        "\n",
        "result = merge_sort(initial)\n",
        "print(*result)"
      ],
      "metadata": {
        "id": "JOTbzY4MHL6s"
      },
      "execution_count": null,
      "outputs": []
    },
    {
      "cell_type": "code",
      "source": [
        "#5 An inversion is a pair of elements in the wrong order in the given array. Find the number of inversions using the variation of the merge sort algorithm.\n",
        "a = input()\n",
        "initial = list(int(i) for i in a.split())\n",
        "count = 0\n",
        "def merge_sort(numbers):\n",
        "    if len(numbers) == 1:\n",
        "        return numbers\n",
        "    else:\n",
        "        middle = len(numbers) // 2\n",
        "        left = merge_sort(numbers[:middle])\n",
        "        right = merge_sort(numbers[middle:])\n",
        "        numbers = merge(left, right)\n",
        "        return numbers\n",
        "\n",
        "def merge(left, right):\n",
        "    i = 0\n",
        "    j = 0\n",
        "    answer = []\n",
        "    global count\n",
        "    while i < len(left) and j < len(right):\n",
        "        if left[i] <= right[j]:\n",
        "            answer.append(left[i])\n",
        "            i += 1\n",
        "        else:\n",
        "            answer.append(right[j])\n",
        "            j += 1\n",
        "            count += len(left[i:])\n",
        "    answer = answer + left[i:]\n",
        "    answer = answer + right[j:]\n",
        "    merge.cnt = count\n",
        "    return answer\n",
        "\n",
        "merge_sort(initial)\n",
        "print(count)"
      ],
      "metadata": {
        "id": "s4TNN5PPHSg-"
      },
      "execution_count": null,
      "outputs": []
    },
    {
      "cell_type": "code",
      "source": [
        "#6 Restore the initial permutation of numbers from 1 to n given this swap distance data.\n",
        "swaps = list(int(i) for i in input().split())\n",
        "n = len(swaps) + 1\n",
        "initial = list(i for i in range(1, n + 1))\n",
        "\n",
        "\n",
        "def unsorted(initial, swaps):\n",
        "    inv = reversed(list(enumerate(swaps)))\n",
        "    for i, distance in inv:\n",
        "        initial[i + distance], initial[i] = initial[i], initial[i + distance]\n",
        "\n",
        "unsorted(initial, swaps)\n",
        "print(*initial)"
      ],
      "metadata": {
        "id": "lKhejKUFHcWO"
      },
      "execution_count": null,
      "outputs": []
    },
    {
      "cell_type": "code",
      "source": [
        "#7 You are given the inversion table for some permutation of numbers from. Restore and print this permutation.\n",
        "inversions = list(int(i) for i in input().split())\n",
        "n = len(inversions)\n",
        "answer = [0] * n\n",
        "\n",
        "answer[inversions[0]] = 1\n",
        "for i in range(1, n):\n",
        "    cnt = 0\n",
        "    left = inversions[i] + 1\n",
        "    for j in range(0, n):\n",
        "        if answer[j] == 0:\n",
        "            cnt += 1\n",
        "        if cnt == left:\n",
        "            answer[j] = i + 1\n",
        "            break\n",
        "\n",
        "print(*answer)"
      ],
      "metadata": {
        "id": "zYtmCk0uHnQm"
      },
      "execution_count": null,
      "outputs": []
    },
    {
      "cell_type": "code",
      "source": [
        "#8\n",
        "_, time = list(map(int, input().split()))\n",
        "numbers = list(int(i) for i in input().split())\n",
        "\n",
        "\n",
        "def binary(numbers, time):\n",
        "    cnt = 0\n",
        "    l = 0\n",
        "    r = len(numbers) - 1\n",
        "\n",
        "    while l <= r:\n",
        "        mid = (r + l) // 2\n",
        "        cnt += 1\n",
        "        if numbers[mid] < time:\n",
        "            l = mid + 1\n",
        "        elif numbers[mid] > time:\n",
        "            r = mid - 1\n",
        "        else:\n",
        "            return cnt, numbers[mid]\n",
        "    return cnt, numbers[mid]\n",
        "\n",
        "\n",
        "print(binary(numbers, time)[0])"
      ],
      "metadata": {
        "id": "jycNknGsHx-h"
      },
      "execution_count": null,
      "outputs": []
    }
  ]
}