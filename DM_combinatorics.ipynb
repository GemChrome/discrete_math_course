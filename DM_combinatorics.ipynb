{
  "nbformat": 4,
  "nbformat_minor": 0,
  "metadata": {
    "colab": {
      "provenance": []
    },
    "kernelspec": {
      "name": "python3",
      "display_name": "Python 3"
    },
    "language_info": {
      "name": "python"
    }
  },
  "cells": [
    {
      "cell_type": "code",
      "execution_count": null,
      "metadata": {
        "id": "ZW8ls7oLDWdL"
      },
      "outputs": [],
      "source": [
        "#1 binary\n",
        "answer = []\n",
        "def Binary(n, prefix_list) :\n",
        "    if prefix_list is None :\n",
        "        prefix_list = []\n",
        "\n",
        "    if len(prefix_list) == n :\n",
        "        answer.append(prefix_list)\n",
        "        return\n",
        "    else:\n",
        "        Binary(n, prefix_list + [0])\n",
        "        Binary(n, prefix_list + [1])\n",
        "\n",
        "n = int(input())\n",
        "Binary(n, None)\n",
        "\n",
        "for i in answer:\n",
        "    for j in i:\n",
        "        print(j, end = '')\n",
        "    print('',sep = '\\n')"
      ]
    },
    {
      "cell_type": "code",
      "source": [
        "#2 permutations\n",
        "answer = []\n",
        "def Perm(n, prefix = None) :\n",
        "    if prefix is None :\n",
        "        prefix = []\n",
        "\n",
        "    if len(prefix) == n :\n",
        "        answer.append(prefix)\n",
        "        return\n",
        "    else:\n",
        "        for i in range(1, n + 1) :\n",
        "            if i not in prefix :\n",
        "                Perm(n, prefix + [i])\n",
        "\n",
        "n = int(input())\n",
        "Perm(n, None)\n",
        "\n",
        "for s in answer:\n",
        "    print(*s)"
      ],
      "metadata": {
        "id": "EX3klRnTD_Xj"
      },
      "execution_count": null,
      "outputs": []
    },
    {
      "cell_type": "code",
      "source": [
        "#3 combinations with repetitions\n",
        "answer = []\n",
        "def CombRep(n, k, prefix):\n",
        "    if prefix is None:\n",
        "        prefix = []\n",
        "\n",
        "    if len(prefix) == k:\n",
        "        answer.append(prefix)\n",
        "\n",
        "    else:\n",
        "        if prefix == []:\n",
        "            start = 1\n",
        "        else:\n",
        "            start = prefix[-1]\n",
        "\n",
        "        for i in range(start, n + 1):\n",
        "            CombRep(n, k, prefix + [i])\n",
        "\n",
        "n, k = map(int, input().split())\n",
        "CombRep(n, k, None)\n",
        "\n",
        "for s in answer:\n",
        "    print(*s)"
      ],
      "metadata": {
        "id": "cVrWtgy9EDKV"
      },
      "execution_count": null,
      "outputs": []
    },
    {
      "cell_type": "code",
      "source": [
        "#4 unordered partitions\n",
        "answer = []\n",
        "def Part(n, prefix):\n",
        "    if prefix is None:\n",
        "        prefix = []\n",
        "\n",
        "    if sum(prefix) == n:\n",
        "        answer.append(prefix)\n",
        "    else:\n",
        "        start = 1 if prefix == [] else prefix[-1]\n",
        "        for i in range(start, n + 1):\n",
        "            if sum(prefix) + i <= n :\n",
        "                Part(n, prefix + [i])\n",
        "\n",
        "n = int(input())\n",
        "Part(n, None)\n",
        "\n",
        "for i in answer:\n",
        "    for j in i[:-1]:\n",
        "        print(j, end = \"+\")\n",
        "    print(i[-1])"
      ],
      "metadata": {
        "id": "hB9MAyqSEaED"
      },
      "execution_count": null,
      "outputs": []
    },
    {
      "cell_type": "code",
      "source": [
        "#5 Output all binary vectors of length, such that they don't contain two consecutive zeros or three consecutive ones, in lexicographical order.\n",
        "answer = []\n",
        "def Binary(n, prefix_list) :\n",
        "    if prefix_list is None :\n",
        "        prefix_list = []\n",
        "\n",
        "    if len(prefix_list) == n :\n",
        "        answer.append(prefix_list)\n",
        "        return\n",
        "    else:\n",
        "        if len(prefix_list) == 0:\n",
        "            Binary(n, prefix_list + [0])\n",
        "            Binary(n, prefix_list + [1])\n",
        "        if len(prefix_list) == 1:\n",
        "            if prefix_list[-1] == 0:\n",
        "                Binary(n, prefix_list + [1])\n",
        "            else :\n",
        "                Binary(n, prefix_list + [0])\n",
        "                Binary(n, prefix_list + [1])\n",
        "        if len(prefix_list) > 1:\n",
        "            if prefix_list[-1] == 0:\n",
        "                Binary(n, prefix_list + [1])\n",
        "            elif prefix_list[-1] == 1 and prefix_list[-2] == 1:\n",
        "                Binary(n, prefix_list + [0])\n",
        "            else:\n",
        "                Binary(n, prefix_list + [0])\n",
        "                Binary(n, prefix_list + [1])\n",
        "\n",
        "n = int(input())\n",
        "Binary(n, None)\n",
        "\n",
        "for i in answer:\n",
        "    for j in i:\n",
        "        print(j, end = '')\n",
        "    print('',sep = '\\n')"
      ],
      "metadata": {
        "id": "p0C43NvxEhkc"
      },
      "execution_count": null,
      "outputs": []
    },
    {
      "cell_type": "code",
      "source": [
        "#6 Output all subsets of items with total weight of items in it less than or equal to S, in lexicographical order.\n",
        "def Subsets(n, k, prefix):\n",
        "    if prefix is None:\n",
        "        prefix = []\n",
        "\n",
        "    if len(prefix) == k and prefix not in answer:\n",
        "        answer.append(prefix)\n",
        "    else:\n",
        "        start = 1 if prefix == [] else prefix[-1] + 1\n",
        "        for j in range(1, k+1):\n",
        "            for i in range(start, n + 1):\n",
        "                if sum(eqs[d] for d in prefix + [i]) <= max_sum :\n",
        "                    Subsets(n, j,prefix + [i])\n",
        "answer = []\n",
        "n = int(input())\n",
        "w = input()\n",
        "max_sum = int(input())\n",
        "k = n - 1\n",
        "\n",
        "weights = list(int(j) for j in w.split())\n",
        "values = []\n",
        "for i in range(1, n + 1):\n",
        "    values.append(i)\n",
        "eqs = dict(zip(values, weights))\n",
        "\n",
        "Subsets(n, k, None)\n",
        "\n",
        "for s in sorted(answer):\n",
        "    print(*s)"
      ],
      "metadata": {
        "id": "0HNOn80DEvkm"
      },
      "execution_count": null,
      "outputs": []
    }
  ]
}